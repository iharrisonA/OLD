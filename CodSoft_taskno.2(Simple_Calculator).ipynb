{
 "cells": [
  {
   "cell_type": "code",
   "execution_count": 4,
   "id": "1cfe3c65-15cd-458a-b458-b936e2e22d70",
   "metadata": {},
   "outputs": [
    {
     "name": "stdout",
     "output_type": "stream",
     "text": [
      "Simple Calculator\n",
      "1. Addition\n",
      "2. Subtraction\n",
      "3. Multiplication\n",
      "4. Division\n"
     ]
    },
    {
     "name": "stdin",
     "output_type": "stream",
     "text": [
      "Enter choice (1/2/3/4):  4\n",
      "Enter first number:  10\n",
      "Enter second number:  2\n"
     ]
    },
    {
     "name": "stdout",
     "output_type": "stream",
     "text": [
      "10.0 / 2.0 = 5.0\n"
     ]
    }
   ],
   "source": [
    "def add(x, y):\n",
    "    return x + y\n",
    "\n",
    "def subtract(x, y):\n",
    "    return x - y\n",
    "\n",
    "def multiply(x, y):\n",
    "    return x * y\n",
    "\n",
    "def divide(x, y):\n",
    "    if y != 0:\n",
    "        return x / y\n",
    "    else:\n",
    "        return \"Error: Division by zero\"\n",
    "\n",
    "def calculator():\n",
    "    print(\"Simple Calculator\")\n",
    "    print(\"1. Addition\")\n",
    "    print(\"2. Subtraction\")\n",
    "    print(\"3. Multiplication\")\n",
    "    print(\"4. Division\")\n",
    "\n",
    "    try:\n",
    "        choice = int(input(\"Enter choice (1/2/3/4): \"))\n",
    "    except ValueError:\n",
    "        print(\"Invalid input. Please enter a number.\")\n",
    "        return\n",
    "\n",
    "    if choice not in [1, 2, 3, 4]:\n",
    "        print(\"Invalid choice. Please enter a valid operation (1/2/3/4).\")\n",
    "        return\n",
    "\n",
    "    try:\n",
    "        num1 = float(input(\"Enter first number: \"))\n",
    "        num2 = float(input(\"Enter second number: \"))\n",
    "    except ValueError:\n",
    "        print(\"Invalid input. Please enter valid numbers.\")\n",
    "        return\n",
    "\n",
    "    if choice == 1:\n",
    "        result = add(num1, num2)\n",
    "        operator = \"+\"\n",
    "    elif choice == 2:\n",
    "        result = subtract(num1, num2)\n",
    "        operator = \"-\"\n",
    "    elif choice == 3:\n",
    "        result = multiply(num1, num2)\n",
    "        operator = \"*\"\n",
    "    elif choice == 4:\n",
    "        result = divide(num1, num2)\n",
    "        operator = \"/\"\n",
    "\n",
    "    print(f\"{num1} {operator} {num2} = {result}\")\n",
    "\n",
    "if __name__ == \"__main__\":\n",
    "    calculator()"
   ]
  },
  {
   "cell_type": "code",
   "execution_count": null,
   "id": "2a8bbf99-ef44-4c51-94dd-fa4f459f0364",
   "metadata": {},
   "outputs": [],
   "source": []
  }
 ],
 "metadata": {
  "kernelspec": {
   "display_name": "Python 3 (ipykernel)",
   "language": "python",
   "name": "python3"
  },
  "language_info": {
   "codemirror_mode": {
    "name": "ipython",
    "version": 3
   },
   "file_extension": ".py",
   "mimetype": "text/x-python",
   "name": "python",
   "nbconvert_exporter": "python",
   "pygments_lexer": "ipython3",
   "version": "3.12.0"
  }
 },
 "nbformat": 4,
 "nbformat_minor": 5
}
