{
 "cells": [
  {
   "cell_type": "code",
   "execution_count": null,
   "id": "0a27062d-7973-40b6-b66b-392d6247dd91",
   "metadata": {},
   "outputs": [
    {
     "name": "stdout",
     "output_type": "stream",
     "text": [
      "\n",
      "=== ToDo List Application ===\n",
      "1. Show Tasks\n",
      "2. Add Task\n",
      "3. Delete Task\n",
      "4. Mark Task as Done\n",
      "0. Exit\n"
     ]
    },
    {
     "name": "stdin",
     "output_type": "stream",
     "text": [
      "Enter your choice (0-4):  2\n",
      "Enter the task:  learn python\n"
     ]
    },
    {
     "name": "stdout",
     "output_type": "stream",
     "text": [
      "Task 'learn python' added successfully.\n",
      "\n",
      "=== ToDo List Application ===\n",
      "1. Show Tasks\n",
      "2. Add Task\n",
      "3. Delete Task\n",
      "4. Mark Task as Done\n",
      "0. Exit\n"
     ]
    },
    {
     "name": "stdin",
     "output_type": "stream",
     "text": [
      "Enter your choice (0-4):  2\n",
      "Enter the task:  drink water\n"
     ]
    },
    {
     "name": "stdout",
     "output_type": "stream",
     "text": [
      "Task 'drink water' added successfully.\n",
      "\n",
      "=== ToDo List Application ===\n",
      "1. Show Tasks\n",
      "2. Add Task\n",
      "3. Delete Task\n",
      "4. Mark Task as Done\n",
      "0. Exit\n"
     ]
    },
    {
     "name": "stdin",
     "output_type": "stream",
     "text": [
      "Enter your choice (0-4):  2\n",
      "Enter the task:  do workout\n"
     ]
    },
    {
     "name": "stdout",
     "output_type": "stream",
     "text": [
      "Task 'do workout' added successfully.\n",
      "\n",
      "=== ToDo List Application ===\n",
      "1. Show Tasks\n",
      "2. Add Task\n",
      "3. Delete Task\n",
      "4. Mark Task as Done\n",
      "0. Exit\n"
     ]
    },
    {
     "name": "stdin",
     "output_type": "stream",
     "text": [
      "Enter your choice (0-4):  1\n"
     ]
    },
    {
     "name": "stdout",
     "output_type": "stream",
     "text": [
      "1. learn python\n",
      "2. drink water\n",
      "3. do workout\n",
      "\n",
      "=== ToDo List Application ===\n",
      "1. Show Tasks\n",
      "2. Add Task\n",
      "3. Delete Task\n",
      "4. Mark Task as Done\n",
      "0. Exit\n"
     ]
    },
    {
     "name": "stdin",
     "output_type": "stream",
     "text": [
      "Enter your choice (0-4):  4\n",
      "Enter the task index to mark as done:  1\n"
     ]
    },
    {
     "name": "stdout",
     "output_type": "stream",
     "text": [
      "Task marked as done.\n",
      "\n",
      "=== ToDo List Application ===\n",
      "1. Show Tasks\n",
      "2. Add Task\n",
      "3. Delete Task\n",
      "4. Mark Task as Done\n",
      "0. Exit\n"
     ]
    },
    {
     "name": "stdin",
     "output_type": "stream",
     "text": [
      "Enter your choice (0-4):  4\n",
      "Enter the task index to mark as done:  3\n"
     ]
    },
    {
     "name": "stdout",
     "output_type": "stream",
     "text": [
      "Task marked as done.\n",
      "\n",
      "=== ToDo List Application ===\n",
      "1. Show Tasks\n",
      "2. Add Task\n",
      "3. Delete Task\n",
      "4. Mark Task as Done\n",
      "0. Exit\n"
     ]
    },
    {
     "name": "stdin",
     "output_type": "stream",
     "text": [
      "Enter your choice (0-4):  3\n"
     ]
    }
   ],
   "source": [
    "import os\n",
    "\n",
    "class ToDoList:\n",
    "    def __init__(self, filename='todolist.txt'):\n",
    "        self.filename = filename\n",
    "        self.tasks = self.load_tasks()\n",
    "\n",
    "    def load_tasks(self):\n",
    "        tasks = []\n",
    "        if os.path.exists(self.filename):\n",
    "            with open(self.filename, 'r') as file:\n",
    "                tasks = file.read().splitlines()\n",
    "        return tasks\n",
    "\n",
    "    def save_tasks(self):\n",
    "        with open(self.filename, 'w') as file:\n",
    "            file.write('\\n'.join(self.tasks))\n",
    "\n",
    "    def show_tasks(self):\n",
    "        if not self.tasks:\n",
    "            print(\"No tasks found.\")\n",
    "        else:\n",
    "            for index, task in enumerate(self.tasks, start=1):\n",
    "                print(f\"{index}. {task}\")\n",
    "\n",
    "    def add_task(self, task):\n",
    "        self.tasks.append(task)\n",
    "        print(f\"Task '{task}' added successfully.\")\n",
    "        self.save_tasks()\n",
    "\n",
    "    def delete_task(self, index):\n",
    "        if 1 <= index <= len(self.tasks):\n",
    "            deleted_task = self.tasks.pop(index - 1)\n",
    "            print(f\"Task '{deleted_task}' deleted successfully.\")\n",
    "            self.save_tasks()\n",
    "        else:\n",
    "            print(\"Invalid task index.\")\n",
    "\n",
    "    def mark_as_done(self, index):\n",
    "        if 1 <= index <= len(self.tasks):\n",
    "            self.tasks[index - 1] = f\"[Done] {self.tasks[index - 1]}\"\n",
    "            print(\"Task marked as done.\")\n",
    "            self.save_tasks()\n",
    "        else:\n",
    "            print(\"Invalid task index.\")\n",
    "\n",
    "def print_menu():\n",
    "    print(\"\\n=== ToDo List Application ===\")\n",
    "    print(\"1. Show Tasks\")\n",
    "    print(\"2. Add Task\")\n",
    "    print(\"3. Delete Task\")\n",
    "    print(\"4. Mark Task as Done\")\n",
    "    print(\"0. Exit\")\n",
    "\n",
    "def main():\n",
    "    todo_list = ToDoList()\n",
    "\n",
    "    while True:\n",
    "        print_menu()\n",
    "        choice = input(\"Enter your choice (0-4): \")\n",
    "\n",
    "        if choice == \"1\":\n",
    "            todo_list.show_tasks()\n",
    "        elif choice == \"2\":\n",
    "            task = input(\"Enter the task: \")\n",
    "            todo_list.add_task(task)\n",
    "        elif choice == \"3\":\n",
    "            index = int(input(\"Enter the task index to delete: \"))\n",
    "            todo_list.delete_task(index)\n",
    "        elif choice == \"4\":\n",
    "            index = int(input(\"Enter the task index to mark as done: \"))\n",
    "            todo_list.mark_as_done(index)\n",
    "        elif choice == \"0\":\n",
    "            todo_list.save_tasks()\n",
    "            print(\"Exiting. Goodbye!\")\n",
    "            break\n",
    "        else:\n",
    "            print(\"Invalid choice. Please enter a number between 0 and 4.\")\n",
    "\n",
    "if __name__ == \"__main__\":\n",
    "    main()"
   ]
  },
  {
   "cell_type": "code",
   "execution_count": null,
   "id": "b7fb24d2-3963-4d4f-a163-00d8ec8315ae",
   "metadata": {},
   "outputs": [],
   "source": []
  }
 ],
 "metadata": {
  "kernelspec": {
   "display_name": "Python 3 (ipykernel)",
   "language": "python",
   "name": "python3"
  },
  "language_info": {
   "codemirror_mode": {
    "name": "ipython",
    "version": 3
   },
   "file_extension": ".py",
   "mimetype": "text/x-python",
   "name": "python",
   "nbconvert_exporter": "python",
   "pygments_lexer": "ipython3",
   "version": "3.12.0"
  }
 },
 "nbformat": 4,
 "nbformat_minor": 5
}
